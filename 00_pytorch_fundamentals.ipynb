{
  "nbformat": 4,
  "nbformat_minor": 0,
  "metadata": {
    "colab": {
      "provenance": [],
      "authorship_tag": "ABX9TyMidTO/8JVE6y0x4yAm20T7",
      "include_colab_link": true
    },
    "kernelspec": {
      "name": "python3",
      "display_name": "Python 3"
    },
    "language_info": {
      "name": "python"
    }
  },
  "cells": [
    {
      "cell_type": "markdown",
      "metadata": {
        "id": "view-in-github",
        "colab_type": "text"
      },
      "source": [
        "<a href=\"https://colab.research.google.com/github/useDeep/learn_pytorch/blob/main/00_pytorch_fundamentals.ipynb\" target=\"_parent\"><img src=\"https://colab.research.google.com/assets/colab-badge.svg\" alt=\"Open In Colab\"/></a>"
      ]
    },
    {
      "cell_type": "markdown",
      "source": [
        "## 00_pytorch_fundamentals"
      ],
      "metadata": {
        "id": "Y0eZ1LU8e_7C"
      }
    },
    {
      "cell_type": "code",
      "source": [
        "import torch\n",
        "import numpy as np\n",
        "import pandas as pd\n",
        "import matplotlib.pyplot as plt\n",
        "print(torch.__version__)"
      ],
      "metadata": {
        "colab": {
          "base_uri": "https://localhost:8080/"
        },
        "id": "cUk0lKleeiqS",
        "outputId": "c251bdc5-3ef1-493e-9325-9d9fe1726b2a"
      },
      "execution_count": null,
      "outputs": [
        {
          "output_type": "stream",
          "name": "stdout",
          "text": [
            "2.8.0+cu126\n"
          ]
        }
      ]
    },
    {
      "cell_type": "markdown",
      "source": [
        "### Introduction to tensors\n",
        "\n",
        "### Creating tensors"
      ],
      "metadata": {
        "id": "ep-p9LTCg-Ok"
      }
    },
    {
      "cell_type": "code",
      "source": [
        "# scalar\n",
        "scalar= torch.tensor(7)\n",
        "scalar"
      ],
      "metadata": {
        "id": "CScB2KmoXD53",
        "colab": {
          "base_uri": "https://localhost:8080/"
        },
        "outputId": "5c462ee3-bb6f-477e-8c46-d9bbc0bfafad"
      },
      "execution_count": null,
      "outputs": [
        {
          "output_type": "execute_result",
          "data": {
            "text/plain": [
              "tensor(7)"
            ]
          },
          "metadata": {},
          "execution_count": 2
        }
      ]
    },
    {
      "cell_type": "code",
      "source": [
        "scalar.ndim"
      ],
      "metadata": {
        "colab": {
          "base_uri": "https://localhost:8080/"
        },
        "id": "yX30yskSupus",
        "outputId": "fbe15596-15ea-4d15-9e58-efd971563aee"
      },
      "execution_count": null,
      "outputs": [
        {
          "output_type": "execute_result",
          "data": {
            "text/plain": [
              "0"
            ]
          },
          "metadata": {},
          "execution_count": 3
        }
      ]
    },
    {
      "cell_type": "code",
      "source": [
        "scalar.item()"
      ],
      "metadata": {
        "colab": {
          "base_uri": "https://localhost:8080/"
        },
        "id": "7ZsC8w9_vNUC",
        "outputId": "263dd03c-fd2d-4a51-d392-fbe1aba44d91"
      },
      "execution_count": null,
      "outputs": [
        {
          "output_type": "execute_result",
          "data": {
            "text/plain": [
              "7"
            ]
          },
          "metadata": {},
          "execution_count": 4
        }
      ]
    },
    {
      "cell_type": "code",
      "source": [
        "# vector\n",
        "\n",
        "vector= torch.tensor([7, 7])\n",
        "vector"
      ],
      "metadata": {
        "colab": {
          "base_uri": "https://localhost:8080/"
        },
        "id": "lTjgSKgovP9P",
        "outputId": "c16e729d-2c62-4ea5-db20-b381e3c818c3"
      },
      "execution_count": null,
      "outputs": [
        {
          "output_type": "execute_result",
          "data": {
            "text/plain": [
              "tensor([7, 7])"
            ]
          },
          "metadata": {},
          "execution_count": 5
        }
      ]
    },
    {
      "cell_type": "code",
      "source": [
        "vector.ndim"
      ],
      "metadata": {
        "colab": {
          "base_uri": "https://localhost:8080/"
        },
        "id": "5KzpC6KOvlmA",
        "outputId": "b350b47b-bdd9-42ee-beed-5fee62c9e61e"
      },
      "execution_count": null,
      "outputs": [
        {
          "output_type": "execute_result",
          "data": {
            "text/plain": [
              "1"
            ]
          },
          "metadata": {},
          "execution_count": 6
        }
      ]
    },
    {
      "cell_type": "code",
      "source": [
        "vector.shape"
      ],
      "metadata": {
        "colab": {
          "base_uri": "https://localhost:8080/"
        },
        "id": "BMdmYzQcvnJf",
        "outputId": "3ea95731-b251-4631-ac21-6f72dc31ca41"
      },
      "execution_count": null,
      "outputs": [
        {
          "output_type": "execute_result",
          "data": {
            "text/plain": [
              "torch.Size([2])"
            ]
          },
          "metadata": {},
          "execution_count": 7
        }
      ]
    },
    {
      "cell_type": "code",
      "source": [
        "# Matrix\n",
        "MATRIX= torch.tensor([[7, 8], [1, 5]])\n",
        "MATRIX"
      ],
      "metadata": {
        "colab": {
          "base_uri": "https://localhost:8080/"
        },
        "id": "VXR9-bC4wL1I",
        "outputId": "fc5d1bb8-2759-4e3e-f115-af191d4bf9df"
      },
      "execution_count": null,
      "outputs": [
        {
          "output_type": "execute_result",
          "data": {
            "text/plain": [
              "tensor([[7, 8],\n",
              "        [1, 5]])"
            ]
          },
          "metadata": {},
          "execution_count": 8
        }
      ]
    },
    {
      "cell_type": "code",
      "source": [
        "MATRIX.ndim"
      ],
      "metadata": {
        "colab": {
          "base_uri": "https://localhost:8080/"
        },
        "id": "9O24ARNMweg2",
        "outputId": "52f34045-421f-41d9-a024-c79ae063e9c1"
      },
      "execution_count": null,
      "outputs": [
        {
          "output_type": "execute_result",
          "data": {
            "text/plain": [
              "2"
            ]
          },
          "metadata": {},
          "execution_count": 9
        }
      ]
    },
    {
      "cell_type": "code",
      "source": [
        "MATRIX.shape"
      ],
      "metadata": {
        "colab": {
          "base_uri": "https://localhost:8080/"
        },
        "id": "Dt5in2jNwjWj",
        "outputId": "3fefa835-6353-45ff-ea5a-22fe47f156dc"
      },
      "execution_count": null,
      "outputs": [
        {
          "output_type": "execute_result",
          "data": {
            "text/plain": [
              "torch.Size([2, 2])"
            ]
          },
          "metadata": {},
          "execution_count": 10
        }
      ]
    },
    {
      "cell_type": "code",
      "source": [
        "#TENSOR\n",
        "TENSOR= torch.tensor([[[1, 2, 3],\n",
        "                       [5, 8, 6],\n",
        "                       [7, 8, 9]]])\n",
        "TENSOR"
      ],
      "metadata": {
        "colab": {
          "base_uri": "https://localhost:8080/"
        },
        "id": "sr5aSB6bwnaZ",
        "outputId": "43c61f05-fee7-4ee6-be7f-fbcae4a4eb56"
      },
      "execution_count": null,
      "outputs": [
        {
          "output_type": "execute_result",
          "data": {
            "text/plain": [
              "tensor([[[1, 2, 3],\n",
              "         [5, 8, 6],\n",
              "         [7, 8, 9]]])"
            ]
          },
          "metadata": {},
          "execution_count": 11
        }
      ]
    },
    {
      "cell_type": "code",
      "source": [
        "TENSOR.ndim"
      ],
      "metadata": {
        "colab": {
          "base_uri": "https://localhost:8080/"
        },
        "id": "EXNWg2ot5YkU",
        "outputId": "55c39700-e13f-481c-a528-5da524e2dc34"
      },
      "execution_count": null,
      "outputs": [
        {
          "output_type": "execute_result",
          "data": {
            "text/plain": [
              "3"
            ]
          },
          "metadata": {},
          "execution_count": 12
        }
      ]
    },
    {
      "cell_type": "code",
      "source": [
        "TENSOR.shape"
      ],
      "metadata": {
        "colab": {
          "base_uri": "https://localhost:8080/"
        },
        "id": "0SadzBcC5fdt",
        "outputId": "9eba6017-f7ce-4186-b7f3-b8d3c985dd35"
      },
      "execution_count": null,
      "outputs": [
        {
          "output_type": "execute_result",
          "data": {
            "text/plain": [
              "torch.Size([1, 3, 3])"
            ]
          },
          "metadata": {},
          "execution_count": 13
        }
      ]
    },
    {
      "cell_type": "markdown",
      "source": [
        "### Random tensors"
      ],
      "metadata": {
        "id": "0QKAuYm45hXF"
      }
    },
    {
      "cell_type": "code",
      "source": [
        "random_tensor= torch.rand(3, 4)\n",
        "random_tensor"
      ],
      "metadata": {
        "colab": {
          "base_uri": "https://localhost:8080/"
        },
        "id": "e_7eFago7EBK",
        "outputId": "0f64d606-8c05-46b5-eeeb-e8d4d88e4893"
      },
      "execution_count": null,
      "outputs": [
        {
          "output_type": "execute_result",
          "data": {
            "text/plain": [
              "tensor([[0.1022, 0.3983, 0.0900, 0.2521],\n",
              "        [0.2553, 0.6834, 0.6554, 0.5522],\n",
              "        [0.6505, 0.0256, 0.2427, 0.9725]])"
            ]
          },
          "metadata": {},
          "execution_count": 14
        }
      ]
    },
    {
      "cell_type": "code",
      "source": [
        "random_tensor.ndim"
      ],
      "metadata": {
        "colab": {
          "base_uri": "https://localhost:8080/"
        },
        "id": "tIcdPxxVB0I7",
        "outputId": "095630b5-4dcd-4ae6-803c-d3ec7395db13"
      },
      "execution_count": null,
      "outputs": [
        {
          "output_type": "execute_result",
          "data": {
            "text/plain": [
              "2"
            ]
          },
          "metadata": {},
          "execution_count": 15
        }
      ]
    },
    {
      "cell_type": "code",
      "source": [
        "# create a random tensor with similar shape to an image tensor\n",
        "random_image_size_tensor= torch.rand(size= (224, 224, 3))   # height, width, colour channels\n",
        "random_image_size_tensor"
      ],
      "metadata": {
        "colab": {
          "base_uri": "https://localhost:8080/"
        },
        "id": "NJ3zpCM1B7za",
        "outputId": "68f3b918-b697-4cc7-eee8-13775331af51"
      },
      "execution_count": null,
      "outputs": [
        {
          "output_type": "execute_result",
          "data": {
            "text/plain": [
              "tensor([[[0.7548, 0.5744, 0.6998],\n",
              "         [0.3287, 0.2657, 0.5938],\n",
              "         [0.1307, 0.3288, 0.2852],\n",
              "         ...,\n",
              "         [0.4489, 0.0068, 0.6118],\n",
              "         [0.7082, 0.1894, 0.1759],\n",
              "         [0.3345, 0.5227, 0.9116]],\n",
              "\n",
              "        [[0.8598, 0.8065, 0.2237],\n",
              "         [0.6409, 0.0460, 0.4905],\n",
              "         [0.4129, 0.9968, 0.6906],\n",
              "         ...,\n",
              "         [0.9276, 0.2671, 0.0967],\n",
              "         [0.4247, 0.0103, 0.7000],\n",
              "         [0.5579, 0.9974, 0.0019]],\n",
              "\n",
              "        [[0.3138, 0.1849, 0.8250],\n",
              "         [0.3191, 0.9073, 0.9176],\n",
              "         [0.5621, 0.5283, 0.7249],\n",
              "         ...,\n",
              "         [0.6929, 0.9697, 0.4431],\n",
              "         [0.5102, 0.2877, 0.4746],\n",
              "         [0.6804, 0.6603, 0.2629]],\n",
              "\n",
              "        ...,\n",
              "\n",
              "        [[0.4652, 0.0446, 0.0632],\n",
              "         [0.9233, 0.4324, 0.5590],\n",
              "         [0.6558, 0.2391, 0.2154],\n",
              "         ...,\n",
              "         [0.3140, 0.7726, 0.1853],\n",
              "         [0.4928, 0.1242, 0.1668],\n",
              "         [0.6976, 0.9573, 0.7780]],\n",
              "\n",
              "        [[0.2250, 0.0570, 0.5018],\n",
              "         [0.4351, 0.0594, 0.6913],\n",
              "         [0.6351, 0.9099, 0.5166],\n",
              "         ...,\n",
              "         [0.9683, 0.0407, 0.3098],\n",
              "         [0.9956, 0.1357, 0.6897],\n",
              "         [0.3066, 0.8919, 0.9513]],\n",
              "\n",
              "        [[0.6897, 0.7158, 0.1892],\n",
              "         [0.8662, 0.6468, 0.9673],\n",
              "         [0.1201, 0.6316, 0.2067],\n",
              "         ...,\n",
              "         [0.4306, 0.0950, 0.8853],\n",
              "         [0.3496, 0.1089, 0.8291],\n",
              "         [0.4527, 0.0256, 0.7566]]])"
            ]
          },
          "metadata": {},
          "execution_count": 16
        }
      ]
    },
    {
      "cell_type": "code",
      "source": [
        "random_image_size_tensor.ndim, random_image_size_tensor.shape"
      ],
      "metadata": {
        "colab": {
          "base_uri": "https://localhost:8080/"
        },
        "id": "H8XF-FjKC5vZ",
        "outputId": "b9cb9eac-3e4b-4ea8-8345-cc55b4d443f4"
      },
      "execution_count": null,
      "outputs": [
        {
          "output_type": "execute_result",
          "data": {
            "text/plain": [
              "(3, torch.Size([224, 224, 3]))"
            ]
          },
          "metadata": {},
          "execution_count": 17
        }
      ]
    },
    {
      "cell_type": "markdown",
      "source": [
        "### zeroes and ones"
      ],
      "metadata": {
        "id": "pOFh3fmFC9aV"
      }
    },
    {
      "cell_type": "code",
      "source": [
        "zeroes= torch.zeros(3, 4)\n",
        "zeroes"
      ],
      "metadata": {
        "colab": {
          "base_uri": "https://localhost:8080/"
        },
        "id": "Nx5jwWMqDBTt",
        "outputId": "b60a300e-5633-4cb7-cc11-c7b7ce9b620a"
      },
      "execution_count": null,
      "outputs": [
        {
          "output_type": "execute_result",
          "data": {
            "text/plain": [
              "tensor([[0., 0., 0., 0.],\n",
              "        [0., 0., 0., 0.],\n",
              "        [0., 0., 0., 0.]])"
            ]
          },
          "metadata": {},
          "execution_count": 18
        }
      ]
    },
    {
      "cell_type": "code",
      "source": [
        "zeroes * random_tensor"
      ],
      "metadata": {
        "colab": {
          "base_uri": "https://localhost:8080/"
        },
        "id": "BexSClcbEysK",
        "outputId": "6b02d837-d592-4ba1-b0ad-3b3d3ebac426"
      },
      "execution_count": null,
      "outputs": [
        {
          "output_type": "execute_result",
          "data": {
            "text/plain": [
              "tensor([[0., 0., 0., 0.],\n",
              "        [0., 0., 0., 0.],\n",
              "        [0., 0., 0., 0.]])"
            ]
          },
          "metadata": {},
          "execution_count": 19
        }
      ]
    },
    {
      "cell_type": "code",
      "source": [
        "ones= torch.ones(3, 4)\n",
        "ones"
      ],
      "metadata": {
        "colab": {
          "base_uri": "https://localhost:8080/"
        },
        "id": "vPw4lqjPE3zu",
        "outputId": "173c0922-cc23-4581-c933-8ebf9c07542f"
      },
      "execution_count": null,
      "outputs": [
        {
          "output_type": "execute_result",
          "data": {
            "text/plain": [
              "tensor([[1., 1., 1., 1.],\n",
              "        [1., 1., 1., 1.],\n",
              "        [1., 1., 1., 1.]])"
            ]
          },
          "metadata": {},
          "execution_count": 20
        }
      ]
    },
    {
      "cell_type": "code",
      "source": [
        "ones.dtype"
      ],
      "metadata": {
        "colab": {
          "base_uri": "https://localhost:8080/"
        },
        "id": "6ats1PwkFGa5",
        "outputId": "2ac99815-6d85-45de-ef1c-97e09bedcb4a"
      },
      "execution_count": null,
      "outputs": [
        {
          "output_type": "execute_result",
          "data": {
            "text/plain": [
              "torch.float32"
            ]
          },
          "metadata": {},
          "execution_count": 21
        }
      ]
    },
    {
      "cell_type": "markdown",
      "source": [
        "### creating a range of tensors and tensors-like"
      ],
      "metadata": {
        "id": "3DIGkf0VFIFO"
      }
    },
    {
      "cell_type": "code",
      "source": [
        "torch.arange(0, 10)"
      ],
      "metadata": {
        "colab": {
          "base_uri": "https://localhost:8080/"
        },
        "id": "18GmfiGPFcR7",
        "outputId": "8342d387-ad59-486b-94d9-38207e1c5801"
      },
      "execution_count": null,
      "outputs": [
        {
          "output_type": "execute_result",
          "data": {
            "text/plain": [
              "tensor([0, 1, 2, 3, 4, 5, 6, 7, 8, 9])"
            ]
          },
          "metadata": {},
          "execution_count": 22
        }
      ]
    },
    {
      "cell_type": "code",
      "source": [
        "one_to_k= torch.arange(start=0, end= 1000, step=50)\n",
        "one_to_k"
      ],
      "metadata": {
        "colab": {
          "base_uri": "https://localhost:8080/"
        },
        "id": "HaMaHIT0Ffi-",
        "outputId": "03290497-0e2a-48f0-d578-7eae93dc319b"
      },
      "execution_count": null,
      "outputs": [
        {
          "output_type": "execute_result",
          "data": {
            "text/plain": [
              "tensor([  0,  50, 100, 150, 200, 250, 300, 350, 400, 450, 500, 550, 600, 650,\n",
              "        700, 750, 800, 850, 900, 950])"
            ]
          },
          "metadata": {},
          "execution_count": 23
        }
      ]
    },
    {
      "cell_type": "code",
      "source": [
        "torch.arange(0, 10, 2)"
      ],
      "metadata": {
        "colab": {
          "base_uri": "https://localhost:8080/"
        },
        "id": "MhQ90BZvMdxN",
        "outputId": "c2f00675-f536-49d4-f919-b2afb1842f72"
      },
      "execution_count": null,
      "outputs": [
        {
          "output_type": "execute_result",
          "data": {
            "text/plain": [
              "tensor([0, 2, 4, 6, 8])"
            ]
          },
          "metadata": {},
          "execution_count": 24
        }
      ]
    },
    {
      "cell_type": "code",
      "source": [
        "# creating tensor like\n",
        "ten_zeroes= torch.zeros_like(input= one_to_k)\n",
        "ten_zeroes"
      ],
      "metadata": {
        "colab": {
          "base_uri": "https://localhost:8080/"
        },
        "id": "xFJubeDyMlMT",
        "outputId": "5f50fe6b-e47a-4af6-89bb-c4f8a2d618dc"
      },
      "execution_count": null,
      "outputs": [
        {
          "output_type": "execute_result",
          "data": {
            "text/plain": [
              "tensor([0, 0, 0, 0, 0, 0, 0, 0, 0, 0, 0, 0, 0, 0, 0, 0, 0, 0, 0, 0])"
            ]
          },
          "metadata": {},
          "execution_count": 25
        }
      ]
    },
    {
      "cell_type": "markdown",
      "source": [
        "### Tensor datatypes"
      ],
      "metadata": {
        "id": "AS4hxBDmOkJ7"
      }
    },
    {
      "cell_type": "code",
      "source": [
        "# Float 32 tensor\n",
        "float_32= torch.tensor([1.0, 2.0, 3.0],\n",
        "                       dtype= None,           # what datatype is the tensor (ex: float32, float16)\n",
        "                       device= 'cpu',         # what device is your tensor on\n",
        "                       requires_grad= True)   # whether or not to track gradients with tensors operations\n",
        "float_32"
      ],
      "metadata": {
        "colab": {
          "base_uri": "https://localhost:8080/"
        },
        "id": "xeQ7VE-tPzdH",
        "outputId": "1f03db0a-86d4-4c1e-8d1f-6d5d2e7a1934"
      },
      "execution_count": null,
      "outputs": [
        {
          "output_type": "execute_result",
          "data": {
            "text/plain": [
              "tensor([1., 2., 3.], requires_grad=True)"
            ]
          },
          "metadata": {},
          "execution_count": 37
        }
      ]
    },
    {
      "cell_type": "code",
      "source": [
        "float_32.dtype"
      ],
      "metadata": {
        "colab": {
          "base_uri": "https://localhost:8080/"
        },
        "id": "jCWZB2wPP_1v",
        "outputId": "0dcd8658-1829-4233-fbbc-8d208177cf4d"
      },
      "execution_count": null,
      "outputs": [
        {
          "output_type": "execute_result",
          "data": {
            "text/plain": [
              "torch.float32"
            ]
          },
          "metadata": {},
          "execution_count": 31
        }
      ]
    },
    {
      "cell_type": "code",
      "source": [
        "float_16= float_32.type(torch.float16)     # convert float32 tensor to float16\n",
        "float_16.dtype"
      ],
      "metadata": {
        "colab": {
          "base_uri": "https://localhost:8080/"
        },
        "id": "hqRKGsKTUx7n",
        "outputId": "faebcb34-a51d-45e9-9c41-3fc0d383c5bf"
      },
      "execution_count": null,
      "outputs": [
        {
          "output_type": "execute_result",
          "data": {
            "text/plain": [
              "torch.float16"
            ]
          },
          "metadata": {},
          "execution_count": 40
        }
      ]
    },
    {
      "cell_type": "code",
      "source": [
        "float_16 * float_32"
      ],
      "metadata": {
        "colab": {
          "base_uri": "https://localhost:8080/"
        },
        "id": "Jai2vw74QQWR",
        "outputId": "b99bcf65-afdb-4d6b-b5d0-eba511169391"
      },
      "execution_count": null,
      "outputs": [
        {
          "output_type": "execute_result",
          "data": {
            "text/plain": [
              "tensor([1., 4., 9.], grad_fn=<MulBackward0>)"
            ]
          },
          "metadata": {},
          "execution_count": 41
        }
      ]
    },
    {
      "cell_type": "code",
      "source": [
        "# Create a tensor\n",
        "x= torch.rand(3, 4, dtype=torch.float16)\n",
        "x"
      ],
      "metadata": {
        "colab": {
          "base_uri": "https://localhost:8080/"
        },
        "id": "xzRzmdDmQbhH",
        "outputId": "a863bdf1-ccb6-4f2a-f7b6-3b995209505f"
      },
      "execution_count": null,
      "outputs": [
        {
          "output_type": "execute_result",
          "data": {
            "text/plain": [
              "tensor([[0.0190, 0.2036, 0.6738, 0.4824],\n",
              "        [0.5117, 0.2480, 0.6582, 0.1997],\n",
              "        [0.3677, 0.7876, 0.7651, 0.4731]], dtype=torch.float16)"
            ]
          },
          "metadata": {},
          "execution_count": 49
        }
      ]
    },
    {
      "cell_type": "markdown",
      "source": [
        "### Tensor attributes"
      ],
      "metadata": {
        "id": "Lw5jhw0OZBsb"
      }
    },
    {
      "cell_type": "code",
      "source": [
        "print(f\"Datatype of tensor: {x.dtype}\")\n",
        "print(f\"Shape of tensor: {x.shape}\")\n",
        "print(f\"Size of tensor: {x.size}\")    # function not attribute\n",
        "print(f\"Size of tensor: {x.size()}\")"
      ],
      "metadata": {
        "colab": {
          "base_uri": "https://localhost:8080/"
        },
        "id": "kfkD-rHZYFDX",
        "outputId": "b17ac998-ffc3-41f8-e431-a978d6de37f4"
      },
      "execution_count": null,
      "outputs": [
        {
          "output_type": "stream",
          "name": "stdout",
          "text": [
            "Datatype of tensor: torch.float16\n",
            "Shape of tensor: torch.Size([3, 4])\n",
            "Size of tensor: <built-in method size of Tensor object at 0x7b0c68b4bc50>\n",
            "Size of tensor: torch.Size([3, 4])\n"
          ]
        }
      ]
    },
    {
      "cell_type": "code",
      "source": [
        "print(f\"Device tensor running on: {x.device}\")"
      ],
      "metadata": {
        "colab": {
          "base_uri": "https://localhost:8080/"
        },
        "id": "x91VIzOhYXfb",
        "outputId": "540f2056-4d15-4b73-a405-6b5e5983950d"
      },
      "execution_count": null,
      "outputs": [
        {
          "output_type": "stream",
          "name": "stdout",
          "text": [
            "Device tensor running on: cpu\n"
          ]
        }
      ]
    },
    {
      "cell_type": "markdown",
      "source": [
        "### Manipulating tensors (tensor operations)\n",
        "\n",
        "Tensor operations include\n",
        "- Addition\n",
        "- Subtraction\n",
        "- Multiplication (element wise)\n",
        "- Division\n",
        "- Matrix multiplication"
      ],
      "metadata": {
        "id": "5QqEtvQ1ZMuD"
      }
    },
    {
      "cell_type": "code",
      "source": [
        "# Create a tensor\n",
        "tensor= torch.tensor([1, 2, 3])\n",
        "tensor + 5"
      ],
      "metadata": {
        "colab": {
          "base_uri": "https://localhost:8080/"
        },
        "id": "KM9hBQ_-Z6ue",
        "outputId": "bbaa8748-d4c5-4f2b-b40a-b60f5922173c"
      },
      "execution_count": null,
      "outputs": [
        {
          "output_type": "execute_result",
          "data": {
            "text/plain": [
              "tensor([6, 7, 8])"
            ]
          },
          "metadata": {},
          "execution_count": 52
        }
      ]
    },
    {
      "cell_type": "code",
      "source": [
        "tensor * 5"
      ],
      "metadata": {
        "colab": {
          "base_uri": "https://localhost:8080/"
        },
        "id": "V8am51d9buFG",
        "outputId": "87bfd5d5-58ed-4a7e-fefb-3c1cc5b5d109"
      },
      "execution_count": null,
      "outputs": [
        {
          "output_type": "execute_result",
          "data": {
            "text/plain": [
              "tensor([ 5, 10, 15])"
            ]
          },
          "metadata": {},
          "execution_count": 53
        }
      ]
    },
    {
      "cell_type": "code",
      "source": [
        "# pytorch in-built functions\n",
        "torch.mul(tensor, 10)"
      ],
      "metadata": {
        "colab": {
          "base_uri": "https://localhost:8080/"
        },
        "id": "zRJVuaU_bxIp",
        "outputId": "bf18f1eb-2afb-4740-8af8-53c0aa663eb3"
      },
      "execution_count": null,
      "outputs": [
        {
          "output_type": "execute_result",
          "data": {
            "text/plain": [
              "tensor([10, 20, 30])"
            ]
          },
          "metadata": {},
          "execution_count": 54
        }
      ]
    },
    {
      "cell_type": "code",
      "source": [
        "torch.subtract(tensor, 1)"
      ],
      "metadata": {
        "colab": {
          "base_uri": "https://localhost:8080/"
        },
        "id": "HmjbpZMecCQr",
        "outputId": "68d64c9d-9377-49b5-d9f4-ccccc88e7711"
      },
      "execution_count": null,
      "outputs": [
        {
          "output_type": "execute_result",
          "data": {
            "text/plain": [
              "tensor([0, 1, 2])"
            ]
          },
          "metadata": {},
          "execution_count": 55
        }
      ]
    },
    {
      "cell_type": "code",
      "source": [],
      "metadata": {
        "id": "KUeb4i3scHu7"
      },
      "execution_count": null,
      "outputs": []
    }
  ]
}