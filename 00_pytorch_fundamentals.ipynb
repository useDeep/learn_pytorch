{
  "nbformat": 4,
  "nbformat_minor": 0,
  "metadata": {
    "colab": {
      "provenance": [],
      "authorship_tag": "ABX9TyObmHYMmoORsbMkMrFE8kGZ",
      "include_colab_link": true
    },
    "kernelspec": {
      "name": "python3",
      "display_name": "Python 3"
    },
    "language_info": {
      "name": "python"
    }
  },
  "cells": [
    {
      "cell_type": "markdown",
      "metadata": {
        "id": "view-in-github",
        "colab_type": "text"
      },
      "source": [
        "<a href=\"https://colab.research.google.com/github/useDeep/learn_pytorch/blob/main/00_pytorch_fundamentals.ipynb\" target=\"_parent\"><img src=\"https://colab.research.google.com/assets/colab-badge.svg\" alt=\"Open In Colab\"/></a>"
      ]
    },
    {
      "cell_type": "markdown",
      "source": [
        "## 00_pytorch_fundamentals"
      ],
      "metadata": {
        "id": "Y0eZ1LU8e_7C"
      }
    },
    {
      "cell_type": "code",
      "source": [
        "import torch\n",
        "import numpy as np\n",
        "import pandas as pd\n",
        "import matplotlib.pyplot as plt\n",
        "print(torch.__version__)"
      ],
      "metadata": {
        "colab": {
          "base_uri": "https://localhost:8080/"
        },
        "id": "cUk0lKleeiqS",
        "outputId": "cd2c34aa-1891-4b09-b3aa-8eaa26e306b7"
      },
      "execution_count": 1,
      "outputs": [
        {
          "output_type": "stream",
          "name": "stdout",
          "text": [
            "2.8.0+cu126\n"
          ]
        }
      ]
    },
    {
      "cell_type": "markdown",
      "source": [
        "### Introduction to tensors\n",
        "\n",
        "### Creating tensors"
      ],
      "metadata": {
        "id": "ep-p9LTCg-Ok"
      }
    },
    {
      "cell_type": "code",
      "source": [
        "# scalar\n",
        "scalar= torch.tensor(7)\n",
        "scalar"
      ],
      "metadata": {
        "id": "CScB2KmoXD53",
        "colab": {
          "base_uri": "https://localhost:8080/"
        },
        "outputId": "490b4481-6c45-4ed2-988f-2d2cd9bd87dc"
      },
      "execution_count": 2,
      "outputs": [
        {
          "output_type": "execute_result",
          "data": {
            "text/plain": [
              "tensor(7)"
            ]
          },
          "metadata": {},
          "execution_count": 2
        }
      ]
    },
    {
      "cell_type": "code",
      "source": [
        "scalar.ndim"
      ],
      "metadata": {
        "colab": {
          "base_uri": "https://localhost:8080/"
        },
        "id": "yX30yskSupus",
        "outputId": "0f9dceb0-3464-4722-cb66-040b12861a5d"
      },
      "execution_count": 3,
      "outputs": [
        {
          "output_type": "execute_result",
          "data": {
            "text/plain": [
              "0"
            ]
          },
          "metadata": {},
          "execution_count": 3
        }
      ]
    },
    {
      "cell_type": "code",
      "source": [
        "scalar.item()"
      ],
      "metadata": {
        "colab": {
          "base_uri": "https://localhost:8080/"
        },
        "id": "7ZsC8w9_vNUC",
        "outputId": "d008f723-79a1-4229-f839-8dbecdc48705"
      },
      "execution_count": 4,
      "outputs": [
        {
          "output_type": "execute_result",
          "data": {
            "text/plain": [
              "7"
            ]
          },
          "metadata": {},
          "execution_count": 4
        }
      ]
    },
    {
      "cell_type": "code",
      "source": [
        "# vector\n",
        "\n",
        "vector= torch.tensor([7, 7])\n",
        "vector"
      ],
      "metadata": {
        "colab": {
          "base_uri": "https://localhost:8080/"
        },
        "id": "lTjgSKgovP9P",
        "outputId": "4d867a5b-ea6c-4c3f-ad94-1cefabe64a36"
      },
      "execution_count": 5,
      "outputs": [
        {
          "output_type": "execute_result",
          "data": {
            "text/plain": [
              "tensor([7, 7])"
            ]
          },
          "metadata": {},
          "execution_count": 5
        }
      ]
    },
    {
      "cell_type": "code",
      "source": [
        "vector.ndim"
      ],
      "metadata": {
        "colab": {
          "base_uri": "https://localhost:8080/"
        },
        "id": "5KzpC6KOvlmA",
        "outputId": "9652d750-3421-4dae-d690-a916a4da175e"
      },
      "execution_count": 6,
      "outputs": [
        {
          "output_type": "execute_result",
          "data": {
            "text/plain": [
              "1"
            ]
          },
          "metadata": {},
          "execution_count": 6
        }
      ]
    },
    {
      "cell_type": "code",
      "source": [
        "vector.shape"
      ],
      "metadata": {
        "colab": {
          "base_uri": "https://localhost:8080/"
        },
        "id": "BMdmYzQcvnJf",
        "outputId": "53f0e7b8-138a-4437-af87-3f0f7cdfc900"
      },
      "execution_count": 7,
      "outputs": [
        {
          "output_type": "execute_result",
          "data": {
            "text/plain": [
              "torch.Size([2])"
            ]
          },
          "metadata": {},
          "execution_count": 7
        }
      ]
    },
    {
      "cell_type": "code",
      "source": [
        "# Matrix\n",
        "MATRIX= torch.tensor([[7, 8], [1, 5]])\n",
        "MATRIX"
      ],
      "metadata": {
        "colab": {
          "base_uri": "https://localhost:8080/"
        },
        "id": "VXR9-bC4wL1I",
        "outputId": "42610be4-ecfc-4fda-bb5b-abc09ce4d71f"
      },
      "execution_count": 8,
      "outputs": [
        {
          "output_type": "execute_result",
          "data": {
            "text/plain": [
              "tensor([[7, 8],\n",
              "        [1, 5]])"
            ]
          },
          "metadata": {},
          "execution_count": 8
        }
      ]
    },
    {
      "cell_type": "code",
      "source": [
        "MATRIX.ndim"
      ],
      "metadata": {
        "colab": {
          "base_uri": "https://localhost:8080/"
        },
        "id": "9O24ARNMweg2",
        "outputId": "4f685523-282c-48f5-97c2-0fdf1089f073"
      },
      "execution_count": 9,
      "outputs": [
        {
          "output_type": "execute_result",
          "data": {
            "text/plain": [
              "2"
            ]
          },
          "metadata": {},
          "execution_count": 9
        }
      ]
    },
    {
      "cell_type": "code",
      "source": [
        "MATRIX.shape"
      ],
      "metadata": {
        "colab": {
          "base_uri": "https://localhost:8080/"
        },
        "id": "Dt5in2jNwjWj",
        "outputId": "84915c1f-30b4-451f-861b-e86a92b2bff4"
      },
      "execution_count": 10,
      "outputs": [
        {
          "output_type": "execute_result",
          "data": {
            "text/plain": [
              "torch.Size([2, 2])"
            ]
          },
          "metadata": {},
          "execution_count": 10
        }
      ]
    },
    {
      "cell_type": "code",
      "source": [
        "#TENSOR\n",
        "TENSOR= torch.tensor([[[1, 2, 3],\n",
        "                       [5, 8, 6],\n",
        "                       [7, 8, 9]]])\n",
        "TENSOR"
      ],
      "metadata": {
        "colab": {
          "base_uri": "https://localhost:8080/"
        },
        "id": "sr5aSB6bwnaZ",
        "outputId": "9d29147d-a284-44cf-962d-091e1bc3aac7"
      },
      "execution_count": 11,
      "outputs": [
        {
          "output_type": "execute_result",
          "data": {
            "text/plain": [
              "tensor([[[1, 2, 3],\n",
              "         [5, 8, 6],\n",
              "         [7, 8, 9]]])"
            ]
          },
          "metadata": {},
          "execution_count": 11
        }
      ]
    },
    {
      "cell_type": "code",
      "source": [
        "TENSOR.ndim"
      ],
      "metadata": {
        "colab": {
          "base_uri": "https://localhost:8080/"
        },
        "id": "EXNWg2ot5YkU",
        "outputId": "cd9f8abd-8a0b-474a-ea13-f24d1a118f95"
      },
      "execution_count": 12,
      "outputs": [
        {
          "output_type": "execute_result",
          "data": {
            "text/plain": [
              "3"
            ]
          },
          "metadata": {},
          "execution_count": 12
        }
      ]
    },
    {
      "cell_type": "code",
      "source": [
        "TENSOR.shape"
      ],
      "metadata": {
        "colab": {
          "base_uri": "https://localhost:8080/"
        },
        "id": "0SadzBcC5fdt",
        "outputId": "e5935955-4f64-4b5e-ec87-84f9ffe6676e"
      },
      "execution_count": 13,
      "outputs": [
        {
          "output_type": "execute_result",
          "data": {
            "text/plain": [
              "torch.Size([1, 3, 3])"
            ]
          },
          "metadata": {},
          "execution_count": 13
        }
      ]
    },
    {
      "cell_type": "markdown",
      "source": [
        "### Random tensors"
      ],
      "metadata": {
        "id": "0QKAuYm45hXF"
      }
    },
    {
      "cell_type": "code",
      "source": [
        "random_tensor= torch.rand(3, 4)\n",
        "random_tensor"
      ],
      "metadata": {
        "colab": {
          "base_uri": "https://localhost:8080/"
        },
        "id": "e_7eFago7EBK",
        "outputId": "053142ba-8104-461e-8b4c-b5ba5ba71c4b"
      },
      "execution_count": 14,
      "outputs": [
        {
          "output_type": "execute_result",
          "data": {
            "text/plain": [
              "tensor([[0.7801, 0.1754, 0.9946, 0.0261],\n",
              "        [0.1850, 0.1043, 0.2687, 0.4945],\n",
              "        [0.7575, 0.4512, 0.1006, 0.8676]])"
            ]
          },
          "metadata": {},
          "execution_count": 14
        }
      ]
    },
    {
      "cell_type": "code",
      "source": [
        "random_tensor.ndim"
      ],
      "metadata": {
        "colab": {
          "base_uri": "https://localhost:8080/"
        },
        "id": "tIcdPxxVB0I7",
        "outputId": "7db705f7-1f3c-4a62-8a2a-e4f51ff97de2"
      },
      "execution_count": 15,
      "outputs": [
        {
          "output_type": "execute_result",
          "data": {
            "text/plain": [
              "2"
            ]
          },
          "metadata": {},
          "execution_count": 15
        }
      ]
    },
    {
      "cell_type": "code",
      "source": [
        "# create a random tensor with similar shape to an image tensor\n",
        "random_image_size_tensor= torch.rand(size= (224, 224, 3))   # height, width, colour channels\n",
        "random_image_size_tensor"
      ],
      "metadata": {
        "colab": {
          "base_uri": "https://localhost:8080/"
        },
        "id": "NJ3zpCM1B7za",
        "outputId": "a6a51abd-4896-4927-c3b9-da65a220bdef"
      },
      "execution_count": 16,
      "outputs": [
        {
          "output_type": "execute_result",
          "data": {
            "text/plain": [
              "tensor([[[0.9070, 0.9840, 0.7361],\n",
              "         [0.9742, 0.7986, 0.4445],\n",
              "         [0.4738, 0.2479, 0.3015],\n",
              "         ...,\n",
              "         [0.4807, 0.1973, 0.4222],\n",
              "         [0.0430, 0.3170, 0.7519],\n",
              "         [0.0683, 0.7350, 0.4770]],\n",
              "\n",
              "        [[0.5465, 0.1877, 0.1258],\n",
              "         [0.1021, 0.3706, 0.0605],\n",
              "         [0.5905, 0.2966, 0.1761],\n",
              "         ...,\n",
              "         [0.0271, 0.4417, 0.1430],\n",
              "         [0.7884, 0.9502, 0.1564],\n",
              "         [0.9299, 0.1738, 0.0600]],\n",
              "\n",
              "        [[0.2284, 0.2720, 0.4402],\n",
              "         [0.5346, 0.8333, 0.4368],\n",
              "         [0.2450, 0.3193, 0.7040],\n",
              "         ...,\n",
              "         [0.1922, 0.0505, 0.0365],\n",
              "         [0.9712, 0.8954, 0.6230],\n",
              "         [0.5095, 0.0193, 0.4352]],\n",
              "\n",
              "        ...,\n",
              "\n",
              "        [[0.7431, 0.8995, 0.3552],\n",
              "         [0.9655, 0.3913, 0.3974],\n",
              "         [0.4373, 0.4817, 0.9600],\n",
              "         ...,\n",
              "         [0.1973, 0.2181, 0.1360],\n",
              "         [0.8139, 0.8832, 0.9080],\n",
              "         [0.3512, 0.3022, 0.7616]],\n",
              "\n",
              "        [[0.0114, 0.9374, 0.3867],\n",
              "         [0.7605, 0.6903, 0.2836],\n",
              "         [0.2665, 0.2545, 0.7623],\n",
              "         ...,\n",
              "         [0.3674, 0.8023, 0.4010],\n",
              "         [0.4478, 0.5347, 0.1441],\n",
              "         [0.2306, 0.7647, 0.8910]],\n",
              "\n",
              "        [[0.3155, 0.1046, 0.3815],\n",
              "         [0.9593, 0.5697, 0.9588],\n",
              "         [0.7249, 0.6174, 0.9748],\n",
              "         ...,\n",
              "         [0.6608, 0.7426, 0.0246],\n",
              "         [0.2850, 0.4392, 0.4717],\n",
              "         [0.0829, 0.0129, 0.1865]]])"
            ]
          },
          "metadata": {},
          "execution_count": 16
        }
      ]
    },
    {
      "cell_type": "code",
      "source": [
        "random_image_size_tensor.ndim, random_image_size_tensor.shape"
      ],
      "metadata": {
        "colab": {
          "base_uri": "https://localhost:8080/"
        },
        "id": "H8XF-FjKC5vZ",
        "outputId": "368c2b0b-1dd4-4e0c-eab3-027575f6f84a"
      },
      "execution_count": 17,
      "outputs": [
        {
          "output_type": "execute_result",
          "data": {
            "text/plain": [
              "(3, torch.Size([224, 224, 3]))"
            ]
          },
          "metadata": {},
          "execution_count": 17
        }
      ]
    },
    {
      "cell_type": "markdown",
      "source": [
        "### zeroes and ones"
      ],
      "metadata": {
        "id": "pOFh3fmFC9aV"
      }
    },
    {
      "cell_type": "code",
      "source": [
        "zeroes= torch.zeros(3, 4)\n",
        "zeroes"
      ],
      "metadata": {
        "colab": {
          "base_uri": "https://localhost:8080/"
        },
        "id": "Nx5jwWMqDBTt",
        "outputId": "cb7c8ac4-38e2-44fe-f6fe-aea2576594f8"
      },
      "execution_count": 18,
      "outputs": [
        {
          "output_type": "execute_result",
          "data": {
            "text/plain": [
              "tensor([[0., 0., 0., 0.],\n",
              "        [0., 0., 0., 0.],\n",
              "        [0., 0., 0., 0.]])"
            ]
          },
          "metadata": {},
          "execution_count": 18
        }
      ]
    },
    {
      "cell_type": "code",
      "source": [
        "zeroes * random_tensor"
      ],
      "metadata": {
        "colab": {
          "base_uri": "https://localhost:8080/"
        },
        "id": "BexSClcbEysK",
        "outputId": "2a3d1aff-c575-4a03-f251-191b4d1ccbe3"
      },
      "execution_count": 19,
      "outputs": [
        {
          "output_type": "execute_result",
          "data": {
            "text/plain": [
              "tensor([[0., 0., 0., 0.],\n",
              "        [0., 0., 0., 0.],\n",
              "        [0., 0., 0., 0.]])"
            ]
          },
          "metadata": {},
          "execution_count": 19
        }
      ]
    },
    {
      "cell_type": "code",
      "source": [
        "ones= torch.ones(3, 4)\n",
        "ones"
      ],
      "metadata": {
        "colab": {
          "base_uri": "https://localhost:8080/"
        },
        "id": "vPw4lqjPE3zu",
        "outputId": "eec03397-01fb-4403-9cee-609f97673241"
      },
      "execution_count": 20,
      "outputs": [
        {
          "output_type": "execute_result",
          "data": {
            "text/plain": [
              "tensor([[1., 1., 1., 1.],\n",
              "        [1., 1., 1., 1.],\n",
              "        [1., 1., 1., 1.]])"
            ]
          },
          "metadata": {},
          "execution_count": 20
        }
      ]
    },
    {
      "cell_type": "code",
      "source": [
        "ones.dtype"
      ],
      "metadata": {
        "colab": {
          "base_uri": "https://localhost:8080/"
        },
        "id": "6ats1PwkFGa5",
        "outputId": "bd26cd3e-01b6-47a0-a7f3-aafe15e73eb7"
      },
      "execution_count": 21,
      "outputs": [
        {
          "output_type": "execute_result",
          "data": {
            "text/plain": [
              "torch.float32"
            ]
          },
          "metadata": {},
          "execution_count": 21
        }
      ]
    },
    {
      "cell_type": "markdown",
      "source": [
        "### creating a range of tensors and tensors-like"
      ],
      "metadata": {
        "id": "3DIGkf0VFIFO"
      }
    },
    {
      "cell_type": "code",
      "source": [
        "torch.arange(0, 10)"
      ],
      "metadata": {
        "colab": {
          "base_uri": "https://localhost:8080/"
        },
        "id": "18GmfiGPFcR7",
        "outputId": "7cd10a3c-8d6b-453a-89b1-bc6a1fece0ac"
      },
      "execution_count": 22,
      "outputs": [
        {
          "output_type": "execute_result",
          "data": {
            "text/plain": [
              "tensor([0, 1, 2, 3, 4, 5, 6, 7, 8, 9])"
            ]
          },
          "metadata": {},
          "execution_count": 22
        }
      ]
    },
    {
      "cell_type": "code",
      "source": [
        "one_to_k= torch.arange(start=0, end= 1000, step=50)\n",
        "one_to_k"
      ],
      "metadata": {
        "colab": {
          "base_uri": "https://localhost:8080/"
        },
        "id": "HaMaHIT0Ffi-",
        "outputId": "214e3f45-6d20-492a-e734-eef80d5541ea"
      },
      "execution_count": 23,
      "outputs": [
        {
          "output_type": "execute_result",
          "data": {
            "text/plain": [
              "tensor([  0,  50, 100, 150, 200, 250, 300, 350, 400, 450, 500, 550, 600, 650,\n",
              "        700, 750, 800, 850, 900, 950])"
            ]
          },
          "metadata": {},
          "execution_count": 23
        }
      ]
    },
    {
      "cell_type": "code",
      "source": [
        "torch.arange(0, 10, 2)"
      ],
      "metadata": {
        "colab": {
          "base_uri": "https://localhost:8080/"
        },
        "id": "MhQ90BZvMdxN",
        "outputId": "cb024843-75ee-419e-9f87-891cc85a4692"
      },
      "execution_count": 24,
      "outputs": [
        {
          "output_type": "execute_result",
          "data": {
            "text/plain": [
              "tensor([0, 2, 4, 6, 8])"
            ]
          },
          "metadata": {},
          "execution_count": 24
        }
      ]
    },
    {
      "cell_type": "code",
      "source": [
        "# creating tensor like\n",
        "ten_zeroes= torch.zeros_like(input= one_to_k)\n",
        "ten_zeroes"
      ],
      "metadata": {
        "colab": {
          "base_uri": "https://localhost:8080/"
        },
        "id": "xFJubeDyMlMT",
        "outputId": "439a947f-1557-4451-e4ca-52d1a91a6aff"
      },
      "execution_count": 25,
      "outputs": [
        {
          "output_type": "execute_result",
          "data": {
            "text/plain": [
              "tensor([0, 0, 0, 0, 0, 0, 0, 0, 0, 0, 0, 0, 0, 0, 0, 0, 0, 0, 0, 0])"
            ]
          },
          "metadata": {},
          "execution_count": 25
        }
      ]
    },
    {
      "cell_type": "markdown",
      "source": [
        "### Tensor datatypes"
      ],
      "metadata": {
        "id": "AS4hxBDmOkJ7"
      }
    },
    {
      "cell_type": "code",
      "source": [
        "# Float 32 tensor\n",
        "float_32= torch.tensor([1.0, 2.0, 3.0],\n",
        "                       dtype= None,           # what datatype is the tensor (ex: float32, float16)\n",
        "                       device= 'cpu',         # what device is your tensor on\n",
        "                       requires_grad= True)   # whether or not to track gradients with tensors operations\n",
        "float_32"
      ],
      "metadata": {
        "colab": {
          "base_uri": "https://localhost:8080/"
        },
        "id": "xeQ7VE-tPzdH",
        "outputId": "8f16b102-62fc-444b-a12f-0ae8471cc147"
      },
      "execution_count": 26,
      "outputs": [
        {
          "output_type": "execute_result",
          "data": {
            "text/plain": [
              "tensor([1., 2., 3.], requires_grad=True)"
            ]
          },
          "metadata": {},
          "execution_count": 26
        }
      ]
    },
    {
      "cell_type": "code",
      "source": [
        "float_32.dtype"
      ],
      "metadata": {
        "colab": {
          "base_uri": "https://localhost:8080/"
        },
        "id": "jCWZB2wPP_1v",
        "outputId": "c2caa445-2b77-43d2-d714-7f9398a2f42e"
      },
      "execution_count": 27,
      "outputs": [
        {
          "output_type": "execute_result",
          "data": {
            "text/plain": [
              "torch.float32"
            ]
          },
          "metadata": {},
          "execution_count": 27
        }
      ]
    },
    {
      "cell_type": "code",
      "source": [
        "float_16= float_32.type(torch.float16)     # convert float32 tensor to float16\n",
        "float_16.dtype"
      ],
      "metadata": {
        "colab": {
          "base_uri": "https://localhost:8080/"
        },
        "id": "hqRKGsKTUx7n",
        "outputId": "d3fa729d-6479-4b61-b4e4-d64c4b31411c"
      },
      "execution_count": 28,
      "outputs": [
        {
          "output_type": "execute_result",
          "data": {
            "text/plain": [
              "torch.float16"
            ]
          },
          "metadata": {},
          "execution_count": 28
        }
      ]
    },
    {
      "cell_type": "code",
      "source": [
        "float_16 * float_32"
      ],
      "metadata": {
        "colab": {
          "base_uri": "https://localhost:8080/"
        },
        "id": "Jai2vw74QQWR",
        "outputId": "2a53fc07-6090-4a35-f797-7c369c6a3dbf"
      },
      "execution_count": 29,
      "outputs": [
        {
          "output_type": "execute_result",
          "data": {
            "text/plain": [
              "tensor([1., 4., 9.], grad_fn=<MulBackward0>)"
            ]
          },
          "metadata": {},
          "execution_count": 29
        }
      ]
    },
    {
      "cell_type": "code",
      "source": [
        "# Create a tensor\n",
        "x= torch.rand(3, 4, dtype=torch.float16)\n",
        "x"
      ],
      "metadata": {
        "colab": {
          "base_uri": "https://localhost:8080/"
        },
        "id": "xzRzmdDmQbhH",
        "outputId": "15859c9a-396b-4dec-a58a-d869258f34d8"
      },
      "execution_count": 30,
      "outputs": [
        {
          "output_type": "execute_result",
          "data": {
            "text/plain": [
              "tensor([[0.4521, 0.6636, 0.1372, 0.2949],\n",
              "        [0.1870, 0.8433, 0.3208, 0.0591],\n",
              "        [0.2290, 0.0459, 0.4536, 0.9014]], dtype=torch.float16)"
            ]
          },
          "metadata": {},
          "execution_count": 30
        }
      ]
    },
    {
      "cell_type": "markdown",
      "source": [
        "### Tensor attributes"
      ],
      "metadata": {
        "id": "Lw5jhw0OZBsb"
      }
    },
    {
      "cell_type": "code",
      "source": [
        "print(f\"Datatype of tensor: {x.dtype}\")\n",
        "print(f\"Shape of tensor: {x.shape}\")\n",
        "print(f\"Size of tensor: {x.size}\")    # function not attribute\n",
        "print(f\"Size of tensor: {x.size()}\")"
      ],
      "metadata": {
        "colab": {
          "base_uri": "https://localhost:8080/"
        },
        "id": "kfkD-rHZYFDX",
        "outputId": "8d1cc2e4-31df-4d37-90c7-8c572aba7744"
      },
      "execution_count": 31,
      "outputs": [
        {
          "output_type": "stream",
          "name": "stdout",
          "text": [
            "Datatype of tensor: torch.float16\n",
            "Shape of tensor: torch.Size([3, 4])\n",
            "Size of tensor: <built-in method size of Tensor object at 0x78e66e1d7980>\n",
            "Size of tensor: torch.Size([3, 4])\n"
          ]
        }
      ]
    },
    {
      "cell_type": "code",
      "source": [
        "print(f\"Device tensor running on: {x.device}\")"
      ],
      "metadata": {
        "colab": {
          "base_uri": "https://localhost:8080/"
        },
        "id": "x91VIzOhYXfb",
        "outputId": "f5a595cd-5e68-4f86-a9e5-2450c2fb8270"
      },
      "execution_count": 32,
      "outputs": [
        {
          "output_type": "stream",
          "name": "stdout",
          "text": [
            "Device tensor running on: cpu\n"
          ]
        }
      ]
    },
    {
      "cell_type": "markdown",
      "source": [
        "### Manipulating tensors (tensor operations)\n",
        "\n",
        "Tensor operations include\n",
        "- Addition\n",
        "- Subtraction\n",
        "- Multiplication (element wise)\n",
        "- Division\n",
        "- Matrix multiplication"
      ],
      "metadata": {
        "id": "5QqEtvQ1ZMuD"
      }
    },
    {
      "cell_type": "code",
      "source": [
        "# Create a tensor\n",
        "tensor= torch.tensor([1, 2, 3])\n",
        "tensor + 5"
      ],
      "metadata": {
        "colab": {
          "base_uri": "https://localhost:8080/"
        },
        "id": "KM9hBQ_-Z6ue",
        "outputId": "7c59e628-93c1-48d0-de59-dcf359e065c2"
      },
      "execution_count": 33,
      "outputs": [
        {
          "output_type": "execute_result",
          "data": {
            "text/plain": [
              "tensor([6, 7, 8])"
            ]
          },
          "metadata": {},
          "execution_count": 33
        }
      ]
    },
    {
      "cell_type": "code",
      "source": [
        "tensor * 5"
      ],
      "metadata": {
        "colab": {
          "base_uri": "https://localhost:8080/"
        },
        "id": "V8am51d9buFG",
        "outputId": "0a32da76-9978-47b0-9884-35e1187309f6"
      },
      "execution_count": 34,
      "outputs": [
        {
          "output_type": "execute_result",
          "data": {
            "text/plain": [
              "tensor([ 5, 10, 15])"
            ]
          },
          "metadata": {},
          "execution_count": 34
        }
      ]
    },
    {
      "cell_type": "code",
      "source": [
        "# pytorch in-built functions\n",
        "torch.mul(tensor, 10)"
      ],
      "metadata": {
        "colab": {
          "base_uri": "https://localhost:8080/"
        },
        "id": "zRJVuaU_bxIp",
        "outputId": "19bcc100-859e-4d85-adfe-b7926c5dbe1a"
      },
      "execution_count": 35,
      "outputs": [
        {
          "output_type": "execute_result",
          "data": {
            "text/plain": [
              "tensor([10, 20, 30])"
            ]
          },
          "metadata": {},
          "execution_count": 35
        }
      ]
    },
    {
      "cell_type": "code",
      "source": [
        "torch.subtract(tensor, 1)"
      ],
      "metadata": {
        "colab": {
          "base_uri": "https://localhost:8080/"
        },
        "id": "HmjbpZMecCQr",
        "outputId": "0e9afdb1-babb-4feb-ba3a-c994189dc86c"
      },
      "execution_count": 36,
      "outputs": [
        {
          "output_type": "execute_result",
          "data": {
            "text/plain": [
              "tensor([0, 1, 2])"
            ]
          },
          "metadata": {},
          "execution_count": 36
        }
      ]
    },
    {
      "cell_type": "markdown",
      "source": [
        "### Matrix multiplication\n",
        "\n"
      ],
      "metadata": {
        "id": "KUeb4i3scHu7"
      }
    },
    {
      "cell_type": "code",
      "source": [
        "# Element wise multiplication\n",
        "print(tensor, \" * \", tensor)\n",
        "print(f\"Equals: {tensor * tensor}\")"
      ],
      "metadata": {
        "colab": {
          "base_uri": "https://localhost:8080/"
        },
        "id": "S6Vwc75JDPrn",
        "outputId": "5eab4da9-baeb-4685-bbf3-799b4a39f542"
      },
      "execution_count": 39,
      "outputs": [
        {
          "output_type": "stream",
          "name": "stdout",
          "text": [
            "tensor([1, 2, 3])  *  tensor([1, 2, 3])\n",
            "Equals: tensor([1, 4, 9])\n"
          ]
        }
      ]
    },
    {
      "cell_type": "code",
      "source": [
        "# Matrix multiplication\n",
        "torch.matmul(tensor, tensor)"
      ],
      "metadata": {
        "colab": {
          "base_uri": "https://localhost:8080/"
        },
        "id": "vtGS0gFIDNvC",
        "outputId": "cb69a25a-0f6b-4098-820d-acdd35186a08"
      },
      "execution_count": 40,
      "outputs": [
        {
          "output_type": "execute_result",
          "data": {
            "text/plain": [
              "tensor(14)"
            ]
          },
          "metadata": {},
          "execution_count": 40
        }
      ]
    },
    {
      "cell_type": "code",
      "source": [
        "tensor_a= torch.tensor([[1, 2],\n",
        "                        [2, 3],\n",
        "                        [5, 6]])\n",
        "tensor_b= torch.tensor([[3, 4],\n",
        "                        [5, 7],\n",
        "                        [5, 9]])\n",
        "\n",
        "torch.mm(tensor_a, tensor_b)"
      ],
      "metadata": {
        "colab": {
          "base_uri": "https://localhost:8080/",
          "height": 176
        },
        "id": "8i9k7xDfDrhw",
        "outputId": "edeff53f-0e83-4759-b06a-e1740df0558e"
      },
      "execution_count": 41,
      "outputs": [
        {
          "output_type": "error",
          "ename": "RuntimeError",
          "evalue": "mat1 and mat2 shapes cannot be multiplied (3x2 and 3x2)",
          "traceback": [
            "\u001b[0;31m---------------------------------------------------------------------------\u001b[0m",
            "\u001b[0;31mRuntimeError\u001b[0m                              Traceback (most recent call last)",
            "\u001b[0;32m/tmp/ipython-input-1587155123.py\u001b[0m in \u001b[0;36m<cell line: 0>\u001b[0;34m()\u001b[0m\n\u001b[1;32m      6\u001b[0m                         [5, 9]])\n\u001b[1;32m      7\u001b[0m \u001b[0;34m\u001b[0m\u001b[0m\n\u001b[0;32m----> 8\u001b[0;31m \u001b[0mtorch\u001b[0m\u001b[0;34m.\u001b[0m\u001b[0mmm\u001b[0m\u001b[0;34m(\u001b[0m\u001b[0mtensor_a\u001b[0m\u001b[0;34m,\u001b[0m \u001b[0mtensor_b\u001b[0m\u001b[0;34m)\u001b[0m\u001b[0;34m\u001b[0m\u001b[0;34m\u001b[0m\u001b[0m\n\u001b[0m",
            "\u001b[0;31mRuntimeError\u001b[0m: mat1 and mat2 shapes cannot be multiplied (3x2 and 3x2)"
          ]
        }
      ]
    },
    {
      "cell_type": "code",
      "source": [
        "tensor_b.T    # .T  -> transpose"
      ],
      "metadata": {
        "colab": {
          "base_uri": "https://localhost:8080/"
        },
        "id": "cBidFcK_Ox2-",
        "outputId": "d7fe2560-9d3d-43df-95f5-d9879f908e64"
      },
      "execution_count": 43,
      "outputs": [
        {
          "output_type": "execute_result",
          "data": {
            "text/plain": [
              "tensor([[3, 5, 5],\n",
              "        [4, 7, 9]])"
            ]
          },
          "metadata": {},
          "execution_count": 43
        }
      ]
    },
    {
      "cell_type": "code",
      "source": [
        "torch.matmul(tensor_a, tensor_b.T)"
      ],
      "metadata": {
        "colab": {
          "base_uri": "https://localhost:8080/"
        },
        "id": "o0JByRPlO3Gc",
        "outputId": "11eb94f8-26bb-43ca-f8b3-7a98995fe8bf"
      },
      "execution_count": 44,
      "outputs": [
        {
          "output_type": "execute_result",
          "data": {
            "text/plain": [
              "tensor([[11, 19, 23],\n",
              "        [18, 31, 37],\n",
              "        [39, 67, 79]])"
            ]
          },
          "metadata": {},
          "execution_count": 44
        }
      ]
    },
    {
      "cell_type": "markdown",
      "source": [
        "### Finding min, mean, max, sum, etc (tensor aggregation)"
      ],
      "metadata": {
        "id": "QY2RMReIPCZZ"
      }
    },
    {
      "cell_type": "code",
      "source": [
        "# Creating a tensor\n",
        "x= torch.arange(0, 100, 1)\n",
        "x"
      ],
      "metadata": {
        "colab": {
          "base_uri": "https://localhost:8080/"
        },
        "id": "RE8EP7RqPdLA",
        "outputId": "f890c771-5831-45e5-a41c-4ed14eb724ca"
      },
      "execution_count": 47,
      "outputs": [
        {
          "output_type": "execute_result",
          "data": {
            "text/plain": [
              "tensor([ 0,  1,  2,  3,  4,  5,  6,  7,  8,  9, 10, 11, 12, 13, 14, 15, 16, 17,\n",
              "        18, 19, 20, 21, 22, 23, 24, 25, 26, 27, 28, 29, 30, 31, 32, 33, 34, 35,\n",
              "        36, 37, 38, 39, 40, 41, 42, 43, 44, 45, 46, 47, 48, 49, 50, 51, 52, 53,\n",
              "        54, 55, 56, 57, 58, 59, 60, 61, 62, 63, 64, 65, 66, 67, 68, 69, 70, 71,\n",
              "        72, 73, 74, 75, 76, 77, 78, 79, 80, 81, 82, 83, 84, 85, 86, 87, 88, 89,\n",
              "        90, 91, 92, 93, 94, 95, 96, 97, 98, 99])"
            ]
          },
          "metadata": {},
          "execution_count": 47
        }
      ]
    },
    {
      "cell_type": "code",
      "source": [
        "torch.min(x), torch.max(x) , x.min()"
      ],
      "metadata": {
        "colab": {
          "base_uri": "https://localhost:8080/"
        },
        "id": "EcW6gxElPlnp",
        "outputId": "5aca8196-184e-45ac-ab6c-6a6d0835a5c4"
      },
      "execution_count": 59,
      "outputs": [
        {
          "output_type": "execute_result",
          "data": {
            "text/plain": [
              "(tensor(0), tensor(99), tensor(0))"
            ]
          },
          "metadata": {},
          "execution_count": 59
        }
      ]
    },
    {
      "cell_type": "code",
      "source": [
        "torch.mean(x, dtype=torch.float16), x.mean(dtype=torch.float16)"
      ],
      "metadata": {
        "colab": {
          "base_uri": "https://localhost:8080/"
        },
        "id": "Rw7J4vPbPsY7",
        "outputId": "3dc2a6c2-1e98-4c71-f611-7caedeb9e85c"
      },
      "execution_count": 58,
      "outputs": [
        {
          "output_type": "execute_result",
          "data": {
            "text/plain": [
              "(tensor(49.5000, dtype=torch.float16), tensor(49.5000, dtype=torch.float16))"
            ]
          },
          "metadata": {},
          "execution_count": 58
        }
      ]
    },
    {
      "cell_type": "code",
      "source": [
        "torch.sum(x), x.sum()"
      ],
      "metadata": {
        "colab": {
          "base_uri": "https://localhost:8080/"
        },
        "id": "2Z8JQ0KMQbVI",
        "outputId": "437aa62d-84b5-4d07-fd4f-f8263ce23204"
      },
      "execution_count": 60,
      "outputs": [
        {
          "output_type": "execute_result",
          "data": {
            "text/plain": [
              "(tensor(4950), tensor(4950))"
            ]
          },
          "metadata": {},
          "execution_count": 60
        }
      ]
    },
    {
      "cell_type": "markdown",
      "source": [
        "### Finding the positional min and max"
      ],
      "metadata": {
        "id": "NysY_vZoQ2Of"
      }
    },
    {
      "cell_type": "code",
      "source": [
        "x.argmin(), x.argmax(), torch.argmin(x)"
      ],
      "metadata": {
        "colab": {
          "base_uri": "https://localhost:8080/"
        },
        "id": "LpK1HznGRx3Q",
        "outputId": "e3e83709-3fde-4c1d-ee2c-460163b84e44"
      },
      "execution_count": 64,
      "outputs": [
        {
          "output_type": "execute_result",
          "data": {
            "text/plain": [
              "(tensor(0), tensor(99), tensor(0))"
            ]
          },
          "metadata": {},
          "execution_count": 64
        }
      ]
    },
    {
      "cell_type": "code",
      "source": [
        "x.argsort()"
      ],
      "metadata": {
        "colab": {
          "base_uri": "https://localhost:8080/"
        },
        "id": "ZHaJPQsYRz5B",
        "outputId": "0a236153-6df7-4e0b-d406-bdedced3a2e0"
      },
      "execution_count": 67,
      "outputs": [
        {
          "output_type": "execute_result",
          "data": {
            "text/plain": [
              "tensor([ 0,  1,  2,  3,  4,  5,  6,  7,  8,  9, 10, 11, 12, 13, 14, 15, 16, 17,\n",
              "        18, 19, 20, 21, 22, 23, 24, 25, 26, 27, 28, 29, 30, 31, 32, 33, 34, 35,\n",
              "        36, 37, 38, 39, 40, 41, 42, 43, 44, 45, 46, 47, 48, 49, 50, 51, 52, 53,\n",
              "        54, 55, 56, 57, 58, 59, 60, 61, 62, 63, 64, 65, 66, 67, 68, 69, 70, 71,\n",
              "        72, 73, 74, 75, 76, 77, 78, 79, 80, 81, 82, 83, 84, 85, 86, 87, 88, 89,\n",
              "        90, 91, 92, 93, 94, 95, 96, 97, 98, 99])"
            ]
          },
          "metadata": {},
          "execution_count": 67
        }
      ]
    },
    {
      "cell_type": "markdown",
      "source": [
        "## Reshaping, stacking, squeezing and unsqueezing\n",
        "\n",
        "- Reshaping - reshapes an input tensor to defined shape\n",
        "- View - Return the view of an input tensor of certain shape but keep the same memory as the original tensor\n",
        "- Staking - Combine multiple tensors on top of each other (vstack) or side by side (hstack)\n",
        "- Squeeze - removes all 1 dimensions from a tensor\n",
        "- Unsqueeze - add a 1 dimension to a target tensor\n",
        "- Permute - Return a view of the input with dimensions permuted in a certain way"
      ],
      "metadata": {
        "id": "4VYQrugbR9r1"
      }
    },
    {
      "cell_type": "code",
      "source": [
        "x= torch.arange(1., 10.)\n",
        "x, x.shape"
      ],
      "metadata": {
        "colab": {
          "base_uri": "https://localhost:8080/"
        },
        "id": "yfwhH_IOXcAV",
        "outputId": "94265be6-3ef9-4437-8fb9-de760817a5e8"
      },
      "execution_count": 89,
      "outputs": [
        {
          "output_type": "execute_result",
          "data": {
            "text/plain": [
              "(tensor([1., 2., 3., 4., 5., 6., 7., 8., 9.]), torch.Size([9]))"
            ]
          },
          "metadata": {},
          "execution_count": 89
        }
      ]
    },
    {
      "cell_type": "code",
      "source": [
        "x_reshaped= x.reshape(3, 3)\n",
        "x_reshaped"
      ],
      "metadata": {
        "colab": {
          "base_uri": "https://localhost:8080/"
        },
        "id": "eK-GPjn0XlSD",
        "outputId": "0f796b57-2bbe-4361-a354-c0cb6964d70a"
      },
      "execution_count": 90,
      "outputs": [
        {
          "output_type": "execute_result",
          "data": {
            "text/plain": [
              "tensor([[1., 2., 3.],\n",
              "        [4., 5., 6.],\n",
              "        [7., 8., 9.]])"
            ]
          },
          "metadata": {},
          "execution_count": 90
        }
      ]
    },
    {
      "cell_type": "code",
      "source": [
        "# Changing view\n",
        "z= x.view(1, 9)\n",
        "z, z.shape"
      ],
      "metadata": {
        "colab": {
          "base_uri": "https://localhost:8080/"
        },
        "id": "KsCjimmcXncv",
        "outputId": "2664e173-f7a5-4fd7-f003-95ad0f66bd9c"
      },
      "execution_count": 91,
      "outputs": [
        {
          "output_type": "execute_result",
          "data": {
            "text/plain": [
              "(tensor([[1., 2., 3., 4., 5., 6., 7., 8., 9.]]), torch.Size([1, 9]))"
            ]
          },
          "metadata": {},
          "execution_count": 91
        }
      ]
    },
    {
      "cell_type": "code",
      "source": [
        "# Changing z changes x (because the veiw of a tensor shares the same memory as the original tensor)\n",
        "z[:, 0]= 5\n",
        "z, x"
      ],
      "metadata": {
        "colab": {
          "base_uri": "https://localhost:8080/"
        },
        "id": "ps8kL0nOa23n",
        "outputId": "8ff2b423-362f-42ab-afad-336295f38aca"
      },
      "execution_count": 92,
      "outputs": [
        {
          "output_type": "execute_result",
          "data": {
            "text/plain": [
              "(tensor([[5., 2., 3., 4., 5., 6., 7., 8., 9.]]),\n",
              " tensor([5., 2., 3., 4., 5., 6., 7., 8., 9.]))"
            ]
          },
          "metadata": {},
          "execution_count": 92
        }
      ]
    },
    {
      "cell_type": "code",
      "source": [
        "# Stack tensors on top of each other\n",
        "x_stacked= torch.stack([x, x, x])\n",
        "x_stacked"
      ],
      "metadata": {
        "colab": {
          "base_uri": "https://localhost:8080/"
        },
        "id": "MnlKZDFFbMMq",
        "outputId": "7fcb5ce0-e63c-4193-a648-83b50d0cb522"
      },
      "execution_count": 95,
      "outputs": [
        {
          "output_type": "execute_result",
          "data": {
            "text/plain": [
              "tensor([[5., 2., 3., 4., 5., 6., 7., 8., 9.],\n",
              "        [5., 2., 3., 4., 5., 6., 7., 8., 9.],\n",
              "        [5., 2., 3., 4., 5., 6., 7., 8., 9.]])"
            ]
          },
          "metadata": {},
          "execution_count": 95
        }
      ]
    },
    {
      "cell_type": "code",
      "source": [
        "# Stack tensors side by side\n",
        "x_stacked= torch.stack([x, x, x], dim= 1)\n",
        "x_stacked"
      ],
      "metadata": {
        "colab": {
          "base_uri": "https://localhost:8080/"
        },
        "id": "03Uw9nyZcHZ5",
        "outputId": "512bdeb0-ce0c-434c-b11a-11132a541ba9"
      },
      "execution_count": 96,
      "outputs": [
        {
          "output_type": "execute_result",
          "data": {
            "text/plain": [
              "tensor([[5., 5., 5.],\n",
              "        [2., 2., 2.],\n",
              "        [3., 3., 3.],\n",
              "        [4., 4., 4.],\n",
              "        [5., 5., 5.],\n",
              "        [6., 6., 6.],\n",
              "        [7., 7., 7.],\n",
              "        [8., 8., 8.],\n",
              "        [9., 9., 9.]])"
            ]
          },
          "metadata": {},
          "execution_count": 96
        }
      ]
    },
    {
      "cell_type": "code",
      "source": [
        "# squeeze\n",
        "x= torch.zeros(2, 1, 2, 1, 2)     # Squeezing tensors removes the single dimenstions\n",
        "x, x.size()"
      ],
      "metadata": {
        "colab": {
          "base_uri": "https://localhost:8080/"
        },
        "id": "kInvZ-NScUC9",
        "outputId": "3d1871ae-1dea-48f6-d458-f1128e1dedec"
      },
      "execution_count": 123,
      "outputs": [
        {
          "output_type": "execute_result",
          "data": {
            "text/plain": [
              "(tensor([[[[[0., 0.]],\n",
              " \n",
              "           [[0., 0.]]]],\n",
              " \n",
              " \n",
              " \n",
              "         [[[[0., 0.]],\n",
              " \n",
              "           [[0., 0.]]]]]),\n",
              " torch.Size([2, 1, 2, 1, 2]))"
            ]
          },
          "metadata": {},
          "execution_count": 123
        }
      ]
    },
    {
      "cell_type": "code",
      "source": [
        "y= x.squeeze()    # or y= torch.squeeze(x)\n",
        "y, y.size()"
      ],
      "metadata": {
        "colab": {
          "base_uri": "https://localhost:8080/"
        },
        "id": "oPHTDL5QevPY",
        "outputId": "aa3028ea-6899-4c8c-b08b-5f6c85c936c4"
      },
      "execution_count": 124,
      "outputs": [
        {
          "output_type": "execute_result",
          "data": {
            "text/plain": [
              "(tensor([[[0., 0.],\n",
              "          [0., 0.]],\n",
              " \n",
              "         [[0., 0.],\n",
              "          [0., 0.]]]),\n",
              " torch.Size([2, 2, 2]))"
            ]
          },
          "metadata": {},
          "execution_count": 124
        }
      ]
    },
    {
      "cell_type": "code",
      "source": [
        "# unsqueeze() - adds a single dimensions to a target tensor at a specific dimension\n",
        "y= y.unsqueeze(dim= 0)\n",
        "y, y.size()\n",
        "\n"
      ],
      "metadata": {
        "colab": {
          "base_uri": "https://localhost:8080/"
        },
        "id": "cmeZQ9fne5J-",
        "outputId": "314d2d60-5575-4e82-dd1a-f3f3199e7572"
      },
      "execution_count": 125,
      "outputs": [
        {
          "output_type": "execute_result",
          "data": {
            "text/plain": [
              "(tensor([[[[0., 0.],\n",
              "           [0., 0.]],\n",
              " \n",
              "          [[0., 0.],\n",
              "           [0., 0.]]]]),\n",
              " torch.Size([1, 2, 2, 2]))"
            ]
          },
          "metadata": {},
          "execution_count": 125
        }
      ]
    },
    {
      "cell_type": "code",
      "source": [
        "# permute\n",
        "x= torch.randn(3, 5, 2)      # Returns a tensor filled with random numbers from a normal distribution with mean 0 and variance 1 (also called the standard normal distribution).\n",
        "\n",
        "x.size()"
      ],
      "metadata": {
        "colab": {
          "base_uri": "https://localhost:8080/"
        },
        "id": "leL72CXYmWpy",
        "outputId": "db8d68d3-b5de-43a9-831d-134a8526f7f7"
      },
      "execution_count": 130,
      "outputs": [
        {
          "output_type": "execute_result",
          "data": {
            "text/plain": [
              "torch.Size([3, 5, 2])"
            ]
          },
          "metadata": {},
          "execution_count": 130
        }
      ]
    },
    {
      "cell_type": "code",
      "source": [
        "y= torch.permute(x, (2, 0, 1))    # permute returns a view, so if the returned tensor is changed, the original one changes\n",
        "y.size()"
      ],
      "metadata": {
        "colab": {
          "base_uri": "https://localhost:8080/"
        },
        "id": "wK0lqcZDnRqs",
        "outputId": "6b16467f-3ff8-402e-935a-f1bc4de0940f"
      },
      "execution_count": 133,
      "outputs": [
        {
          "output_type": "execute_result",
          "data": {
            "text/plain": [
              "torch.Size([2, 3, 5])"
            ]
          },
          "metadata": {},
          "execution_count": 133
        }
      ]
    },
    {
      "cell_type": "code",
      "source": [
        "y[0][0][0]= 5"
      ],
      "metadata": {
        "id": "ZnQGfO8pn3yq"
      },
      "execution_count": 137,
      "outputs": []
    },
    {
      "cell_type": "code",
      "source": [
        "y, x"
      ],
      "metadata": {
        "colab": {
          "base_uri": "https://localhost:8080/"
        },
        "id": "_MUKONL1pHp1",
        "outputId": "1b181911-434c-451f-d2f8-c068aba44ca3"
      },
      "execution_count": 138,
      "outputs": [
        {
          "output_type": "execute_result",
          "data": {
            "text/plain": [
              "(tensor([[[ 5.0000, -0.0108,  0.5638, -0.1007, -1.1041],\n",
              "          [ 0.8830, -0.0207,  0.0486,  1.6030,  0.6300],\n",
              "          [ 0.3799, -0.9619, -1.7072, -0.6983,  0.9832]],\n",
              " \n",
              "         [[ 1.4362, -0.1514, -1.2762, -0.6562, -0.0495],\n",
              "          [ 1.2768, -1.0825, -0.3473, -0.1936, -0.9065],\n",
              "          [-0.7384,  0.2274,  2.3088,  1.3667, -0.2812]]]),\n",
              " tensor([[[ 5.0000,  1.4362],\n",
              "          [-0.0108, -0.1514],\n",
              "          [ 0.5638, -1.2762],\n",
              "          [-0.1007, -0.6562],\n",
              "          [-1.1041, -0.0495]],\n",
              " \n",
              "         [[ 0.8830,  1.2768],\n",
              "          [-0.0207, -1.0825],\n",
              "          [ 0.0486, -0.3473],\n",
              "          [ 1.6030, -0.1936],\n",
              "          [ 0.6300, -0.9065]],\n",
              " \n",
              "         [[ 0.3799, -0.7384],\n",
              "          [-0.9619,  0.2274],\n",
              "          [-1.7072,  2.3088],\n",
              "          [-0.6983,  1.3667],\n",
              "          [ 0.9832, -0.2812]]]))"
            ]
          },
          "metadata": {},
          "execution_count": 138
        }
      ]
    },
    {
      "cell_type": "markdown",
      "source": [
        "## Pytorch and Numpy\n",
        "\n",
        "- Data in numpy to pytorch tensor -> `torch.from_numpy(ndarray)`\n",
        "- Pytorch tensor -> `torch.Tensor.numpy()`"
      ],
      "metadata": {
        "id": "oDpmGk9PpPHf"
      }
    },
    {
      "cell_type": "code",
      "source": [
        "# Numpy array to tensor\n",
        "\n",
        "array= np.arange(1, 10)\n",
        "tensor= torch.from_numpy(array)   # when converting from numpy -> pytorch, pytorch reflects numpy's default datatype of int64, unless specified using tensor= torch.from_numpy(array).type(int32)\n",
        "\n",
        "array, tensor, tensor.dtype"
      ],
      "metadata": {
        "colab": {
          "base_uri": "https://localhost:8080/"
        },
        "id": "qJ_W-NUHsKEm",
        "outputId": "81a1a1d2-b64b-4eb3-de36-c1d8fc4a4430"
      },
      "execution_count": 151,
      "outputs": [
        {
          "output_type": "execute_result",
          "data": {
            "text/plain": [
              "(array([1, 2, 3, 4, 5, 6, 7, 8, 9]),\n",
              " tensor([1, 2, 3, 4, 5, 6, 7, 8, 9]),\n",
              " torch.int64)"
            ]
          },
          "metadata": {},
          "execution_count": 151
        }
      ]
    },
    {
      "cell_type": "code",
      "source": [
        "array[0]= 50\n",
        "array, tensor"
      ],
      "metadata": {
        "colab": {
          "base_uri": "https://localhost:8080/"
        },
        "id": "ma9T-6lBsKog",
        "outputId": "bb37840b-239e-49b4-c281-b32007eb5e7d"
      },
      "execution_count": 152,
      "outputs": [
        {
          "output_type": "execute_result",
          "data": {
            "text/plain": [
              "(array([50,  2,  3,  4,  5,  6,  7,  8,  9]),\n",
              " tensor([50,  2,  3,  4,  5,  6,  7,  8,  9]))"
            ]
          },
          "metadata": {},
          "execution_count": 152
        }
      ]
    },
    {
      "cell_type": "code",
      "source": [
        "array= array+ 1\n",
        "array, tensor"
      ],
      "metadata": {
        "colab": {
          "base_uri": "https://localhost:8080/"
        },
        "id": "agP-uiQHsKku",
        "outputId": "b167cd9d-3f5a-4ca6-8f91-1d0b7a59a2db"
      },
      "execution_count": 153,
      "outputs": [
        {
          "output_type": "execute_result",
          "data": {
            "text/plain": [
              "(array([51,  3,  4,  5,  6,  7,  8,  9, 10]),\n",
              " tensor([50,  2,  3,  4,  5,  6,  7,  8,  9]))"
            ]
          },
          "metadata": {},
          "execution_count": 153
        }
      ]
    },
    {
      "cell_type": "code",
      "source": [
        "# Tensor to numpy array\n",
        "\n",
        "tensor= torch.ones(5)\n",
        "np_array= tensor.numpy()\n",
        "\n",
        "tensor, np_array"
      ],
      "metadata": {
        "colab": {
          "base_uri": "https://localhost:8080/"
        },
        "id": "tO4F6iPssKgo",
        "outputId": "4ce2d2f9-e6c4-4fa1-e170-4bd656d639b6"
      },
      "execution_count": 154,
      "outputs": [
        {
          "output_type": "execute_result",
          "data": {
            "text/plain": [
              "(tensor([1., 1., 1., 1., 1.]), array([1., 1., 1., 1., 1.], dtype=float32))"
            ]
          },
          "metadata": {},
          "execution_count": 154
        }
      ]
    },
    {
      "cell_type": "code",
      "source": [
        "tensor= tensor + 1\n",
        "tensor, np_array"
      ],
      "metadata": {
        "colab": {
          "base_uri": "https://localhost:8080/"
        },
        "id": "REkW-Iz1tfRh",
        "outputId": "0ec286e7-03b1-45ff-a0ac-8715c9283fa5"
      },
      "execution_count": 155,
      "outputs": [
        {
          "output_type": "execute_result",
          "data": {
            "text/plain": [
              "(tensor([2., 2., 2., 2., 2.]), array([1., 1., 1., 1., 1.], dtype=float32))"
            ]
          },
          "metadata": {},
          "execution_count": 155
        }
      ]
    },
    {
      "cell_type": "markdown",
      "source": [
        "## Reproducbility\n",
        "\n",
        "- To reduce the randomnesss in neural networks and pytorch comes with a concept of a random seed\n"
      ],
      "metadata": {
        "id": "3_n0vrkruLF4"
      }
    },
    {
      "cell_type": "code",
      "source": [
        "a= torch.rand(3, 4)\n",
        "b= torch.rand(3, 4)\n",
        "\n",
        "print(a)\n",
        "print(b)\n",
        "print(a== b)"
      ],
      "metadata": {
        "colab": {
          "base_uri": "https://localhost:8080/"
        },
        "id": "MpIfcQ2nuTxb",
        "outputId": "db57c0d5-079a-4f66-b366-7308fdf456e8"
      },
      "execution_count": 159,
      "outputs": [
        {
          "output_type": "stream",
          "name": "stdout",
          "text": [
            "tensor([[0.2756, 0.2734, 0.6039, 0.2516],\n",
            "        [0.2778, 0.1766, 0.9149, 0.9105],\n",
            "        [0.2639, 0.4295, 0.3842, 0.5658]])\n",
            "tensor([[0.5125, 0.9554, 0.1299, 0.0435],\n",
            "        [0.7777, 0.4477, 0.8085, 0.1820],\n",
            "        [0.6566, 0.6708, 0.2290, 0.7496]])\n",
            "tensor([[False, False, False, False],\n",
            "        [False, False, False, False],\n",
            "        [False, False, False, False]])\n"
          ]
        }
      ]
    },
    {
      "cell_type": "code",
      "source": [
        "RANDOM_SEED= 75\n",
        "torch.manual_seed(RANDOM_SEED)\n",
        "\n",
        "random_tensor_a= torch.rand(3, 4)\n",
        "torch.manual_seed(RANDOM_SEED)\n",
        "random_tensor_b= torch.rand(3, 4)\n",
        "\n",
        "print(random_tensor_a)\n",
        "print(random_tensor_b)\n",
        "print(random_tensor_a== random_tensor_b)"
      ],
      "metadata": {
        "colab": {
          "base_uri": "https://localhost:8080/"
        },
        "id": "5_TxBE5guTt4",
        "outputId": "5ba4d0a9-fb3d-43e8-90d9-efdff2ad6cd4"
      },
      "execution_count": 162,
      "outputs": [
        {
          "output_type": "stream",
          "name": "stdout",
          "text": [
            "tensor([[0.6487, 0.3296, 0.8868, 0.6205],\n",
            "        [0.3563, 0.6020, 0.9925, 0.3728],\n",
            "        [0.0012, 0.4957, 0.3346, 0.3869]])\n",
            "tensor([[0.6487, 0.3296, 0.8868, 0.6205],\n",
            "        [0.3563, 0.6020, 0.9925, 0.3728],\n",
            "        [0.0012, 0.4957, 0.3346, 0.3869]])\n",
            "tensor([[True, True, True, True],\n",
            "        [True, True, True, True],\n",
            "        [True, True, True, True]])\n"
          ]
        }
      ]
    },
    {
      "cell_type": "markdown",
      "source": [
        "## Running pytorch objects on the GPUs"
      ],
      "metadata": {
        "id": "HJicRgz7uTqE"
      }
    },
    {
      "cell_type": "code",
      "source": [
        "torch.cuda.is_available()"
      ],
      "metadata": {
        "colab": {
          "base_uri": "https://localhost:8080/"
        },
        "id": "mjw5NlQ-uTl5",
        "outputId": "17432179-877a-46f4-d67a-817dccb63a71"
      },
      "execution_count": 164,
      "outputs": [
        {
          "output_type": "execute_result",
          "data": {
            "text/plain": [
              "False"
            ]
          },
          "metadata": {},
          "execution_count": 164
        }
      ]
    },
    {
      "cell_type": "code",
      "source": [
        "# Setup device agnostic code\n",
        "device= \"cuda\" if torch.cuda.is_available() else \"cpu\"\n",
        "device"
      ],
      "metadata": {
        "colab": {
          "base_uri": "https://localhost:8080/",
          "height": 35
        },
        "id": "PDkGN82V5U6t",
        "outputId": "d138ff53-939d-4f31-8899-bd0531d90b95"
      },
      "execution_count": 166,
      "outputs": [
        {
          "output_type": "execute_result",
          "data": {
            "text/plain": [
              "'cpu'"
            ],
            "application/vnd.google.colaboratory.intrinsic+json": {
              "type": "string"
            }
          },
          "metadata": {},
          "execution_count": 166
        }
      ]
    },
    {
      "cell_type": "code",
      "source": [
        "# count number of devices\n",
        "torch.cuda.device_count()"
      ],
      "metadata": {
        "colab": {
          "base_uri": "https://localhost:8080/"
        },
        "id": "plE6BnEx5aIw",
        "outputId": "54084993-a80f-4eb6-f4bd-05c72058230b"
      },
      "execution_count": 167,
      "outputs": [
        {
          "output_type": "execute_result",
          "data": {
            "text/plain": [
              "0"
            ]
          },
          "metadata": {},
          "execution_count": 167
        }
      ]
    },
    {
      "cell_type": "code",
      "source": [
        "# tensor on cpu (default)\n",
        "tensor= torch.tensor([1, 2, 3], device= \"cpu\")\n",
        "print(tensor, tensor.device)"
      ],
      "metadata": {
        "colab": {
          "base_uri": "https://localhost:8080/"
        },
        "id": "vnoeMDOz5sF3",
        "outputId": "ae55c934-c8a9-4ffb-a8af-32fc23e94148"
      },
      "execution_count": 168,
      "outputs": [
        {
          "output_type": "stream",
          "name": "stdout",
          "text": [
            "tensor([1, 2, 3]) cpu\n"
          ]
        }
      ]
    },
    {
      "cell_type": "code",
      "source": [
        "# Move tensor to GPU (if available)\n",
        "\n",
        "device= \"cuda\" if torch.cuda.is_available() else \"cpu\"\n",
        "tensor_on_gpu= tensor.to(device)\n",
        "tensor_on_gpu, tensor_on_gpu.device"
      ],
      "metadata": {
        "colab": {
          "base_uri": "https://localhost:8080/"
        },
        "id": "KaoCGWSN8Z6o",
        "outputId": "85c861c2-80ad-4238-83c8-f41d5059f86b"
      },
      "execution_count": 171,
      "outputs": [
        {
          "output_type": "execute_result",
          "data": {
            "text/plain": [
              "(tensor([1, 2, 3]), device(type='cpu'))"
            ]
          },
          "metadata": {},
          "execution_count": 171
        }
      ]
    },
    {
      "cell_type": "markdown",
      "source": [
        "### numpy works only on cpu. Moving tensors back to cpu"
      ],
      "metadata": {
        "id": "EQ-KO6jM8uiT"
      }
    },
    {
      "cell_type": "code",
      "source": [
        "# if tensor is on gpu, can't transform it to numpy\n",
        "tensor_back_on_cpu= tensor_on_gpu.cpu().numpy()"
      ],
      "metadata": {
        "id": "KESwOvVB9Gqo"
      },
      "execution_count": 172,
      "outputs": []
    },
    {
      "cell_type": "code",
      "source": [],
      "metadata": {
        "id": "oe17zPAs9Yk8"
      },
      "execution_count": null,
      "outputs": []
    }
  ]
}